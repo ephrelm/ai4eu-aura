{
 "cells": [
  {
   "cell_type": "markdown",
   "source": [
    "\n",
    "# Getting Started with the Software Heritage API \n",
    "\n",
    "\n",
    "## Introduction\n",
    "\n",
    "### About Software Heritage\n",
    "\n",
    "The [Software Heritage project](https://www.softwareheritage.org) was started in 2015 with a rather impressive goal and purpose: \n",
    "\n",
    "> Software Heritage is an ambitious initiative that aims at collecting, organizing, preserving and sharing all the source code publicly available in the world.\n",
    "\n",
    "Yes, you read it well: all source code available in the world. It implies to build an equally impressive structure to hold the huge amount of information represented, make the archive available to the public through a [nice web interface](https://archive.softwareheritage.org/) and even propose a [well-documented API](https://docs.softwareheritage.org/devel/swh-web/) to access it seamlessly. For the records, there are also [various datasets available](https://docs.softwareheritage.org/devel/swh-dataset/graph/dataset.html) for download, with detailed instructions about how to set it up. And, yes it's huge: the full graph generated from the archive (with only metadata, content is not included) has more than 20b nodes and weights 1.2TB. Overall size of the archive is in the hundreds of TBs.\n",
    "\n",
    "This article presents, and demonstrates the use of, the [Software Heritage API](https://archive.softwareheritage.org/api/1/) to query basic information about archived content and fetch the content of a software project.\n",
    "\n",
    "### Terms and Concepts\n",
    "\n",
    "For our activity we need to define the following terms and concepts:\n",
    "\n",
    "* The repositories analysed by the SWH are registered as **origins**. Examples of origins are: https://bitbucket.org/anthroweb/apache.git, \thttps://github.com/apache/ant, or other types of sources (debian source packages, npmjs, pypi, cran..). \n",
    "* When repositories are analysed, it creates **snapshots**. Snapshots describe the state of the repository at the time of analysis, and provide links to the content. As an example in the case of a git repository, the snapshot links to the list of branches, which themselves link to revisions and content.\n",
    "* **Revisions** are consistent sets of directories and files representing the repository at a given time, like in a baseline. They can be conceptually mapped to commits in subversion, to git references, or to source package versions in debian or nmpjs repositories.\n",
    "* Revisions are linked to a **directory**, which itself links to other directories and **files** (aka blobs).\n",
    "\n",
    "A full list of terms is provided in the [Software Heritage doc](https://wiki.softwareheritage.org/index.php?title=Glossary)."
   ],
   "metadata": {
    "cell_id": "00000-4f5c7a97-3b7f-42fd-afb0-4547a1866069",
    "deepnote_cell_type": "markdown"
   }
  },
  {
   "cell_type": "markdown",
   "source": [
    "## Preliminary steps\n",
    "\n",
    "### System requirements\n",
    "\n",
    "This article uses Python 3.x on the client side, and the `requests` Python module to manipulate the HTTP requests. Note however that any language that provides HTTP requests (GET, POST) can access the API and could be used. Firstly let's make sure we have the correct Python version and module installed:\n",
    "\n",
    "    (gs_env) boris@castalia:gs$ python -V\n",
    "    Python 3.7.3\n",
    "    (gs_env) boris@castalia:notebooks$ pip install requests\n",
    "    Requirement already satisfied: requests in ./gs_env/lib/python3.7/site-packages (2.25.1)\n",
    "    Requirement already satisfied: certifi>=2017.4.17 in ./gs_env/lib/python3.7/site-packages (from requests) (2020.12.5)\n",
    "    Requirement already satisfied: chardet<5,>=3.0.2 in ./gs_env/lib/python3.7/site-packages (from requests) (4.0.0)\n",
    "    Requirement already satisfied: idna<3,>=2.5 in ./gs_env/lib/python3.7/site-packages (from requests) (2.10)\n",
    "    Requirement already satisfied: urllib3<1.27,>=1.21.1 in ./gs_env/lib/python3.7/site-packages (from requests) (1.26.4)\n",
    "    (gs_env) boris@castalia:gs$ \n",
    "\n",
    "## Initialise the script\n",
    "\n",
    "We need to import a few modules and utilities to play with the Software Heritage API, namely `json` and the aforementioned `requests` modules. We also define a utility function to pretty-print json data easily:"
   ],
   "metadata": {
    "cell_id": "00001-6303a3db-4ab5-4d72-8081-34c0aa3af83f",
    "deepnote_cell_type": "markdown"
   }
  },
  {
   "cell_type": "code",
   "metadata": {
    "tags": [],
    "cell_id": "00002-7e4a0594-2323-4402-b503-0f7519b75d46",
    "deepnote_to_be_reexecuted": false,
    "source_hash": "745c7186",
    "execution_start": 1621768589282,
    "execution_millis": 4,
    "deepnote_cell_type": "code"
   },
   "source": [
    "import json\n",
    "import requests\n",
    "\n",
    "# Utility to pretty-print json.\n",
    "def jprint(obj):\n",
    "    # create a formatted string of the Python JSON object\n",
    "    print(json.dumps(obj, sort_keys=True, indent=4))\n",
    "  "
   ],
   "outputs": [],
   "execution_count": 1
  },
  {
   "cell_type": "markdown",
   "source": [
    "The syntax mentioned in the [API documentation](https://archive.softwareheritage.org/api/1/) is rather straightforward. Since we want to read it from the main Software Heritage server, we will use `https://archive.softwareheritage.org/` as the basename. All API calls will be forged accoring to the same syntax: \n",
    "\n",
    "    https://archive.softwareheritage.org/api/1/<end/point>\n",
    "\n",
    "## Request basic Information\n",
    "\n",
    "We want to get some basic information about the main server activity and content. The `stat` endpoint provides asummary of the main indexes and some statistics about the archive. We can request a GET on the main counters of the archive using the counters path, as described in the [endpoint documentation](https://archive.softwareheritage.org/api/1/stat/counters/):\n",
    "\n",
    "`/api/1/stat/counters/`\n",
    "\n",
    "This API endpoint returns the following information:\n",
    "* **content** is the total number of blobs (files) in the archive.\n",
    "* **directory** is the total number of repositories in the archive.\n",
    "* **origin**  is the number of distinct origins (repositories) fetched by the archive bots.\n",
    "* **origin_visits** is the total number of visits across all origins.\n",
    "* **person** is the number of authors (e.g. committers, authors) in the archived files.\n",
    "* **release** is the number of tags retrieved in the archive.\n",
    "* **revision** is the number of revisions stored in the archive.\n",
    "* **skipped_content** is the number of objects which could be imported in the archive.\n",
    "* **snapshot** is the number of snapshots stored in the archive.\n",
    "\n",
    "Note that we use the default JSON format for the output. We could use YAML if we wanted to, with a custom `Request Headers` set to `application/yaml`."
   ],
   "metadata": {
    "tags": [],
    "cell_id": "00003-3496e395-132c-4a16-bf84-64676cf052ed",
    "deepnote_cell_type": "markdown"
   }
  },
  {
   "cell_type": "code",
   "metadata": {
    "tags": [],
    "cell_id": "00004-8bdeb6d3-d7c0-4a8a-8184-25021ab873cf",
    "deepnote_to_be_reexecuted": false,
    "source_hash": "68325377",
    "execution_start": 1621768589291,
    "execution_millis": 720,
    "deepnote_cell_type": "code"
   },
   "source": [
    "resp = requests.get(\"https://archive.softwareheritage.org/api/1/stat/counters/\")\n",
    "counters = resp.json()\n",
    "jprint(counters)"
   ],
   "outputs": [
    {
     "output_type": "stream",
     "name": "stdout",
     "text": [
      "{\n    \"content\": 11413291300,\n    \"directory\": 9514643295,\n    \"origin\": 166399405,\n    \"person\": 45914348,\n    \"release\": 21225939,\n    \"revision\": 2419537318\n}\n"
     ]
    }
   ],
   "execution_count": 2
  },
  {
   "cell_type": "markdown",
   "source": [
    "There are almost 10bn blobs (aka files) in the archive and 8bn+ directories already, for 155m repositories analysed. \n",
    "\n",
    "Now, what about a specific repository? Let's say we want to find if [alambic](https://alambic.io) (an open-source data provider and analysis system for software development) has already been analysed by the archive's bots. \n",
    "\n",
    "\n",
    "## Search the archive\n",
    "\n",
    "### Search for a keyword\n",
    "\n",
    "The easiest way to look for a keyword in the repositories analysed by the archive is to use the `search` feature of the `origin` endpoint. Documentation for the endpoint is [here](https://archive.softwareheritage.org/api/1/origin/search/doc/) and the complete syntax is: \n",
    "\n",
    "    `/api/1/origin/search/<keyword>/` \n",
    "\n",
    "The server returns an array of hashes, with each item being formatted as:\n",
    "\n",
    "* **origin_visits_url** attribute is an URL that points to the API page listing all visits (bot fetches) to this repository. \n",
    "* **url** is the url of the origin, or repository, itself.\n",
    "\n",
    "A (truncated) example of a result from this endpoint is shown below:\n",
    "\n",
    "````\n",
    "[ \n",
    "  {\n",
    "    \"origin_visits_url\": \"https://archive.softwareheritage.org/api/1/origin/https://github.com/borisbaldassari/alambic/visits/\",\n",
    "    \"url\": \"https://github.com/borisbaldassari/alambic\"\n",
    "  }\n",
    "  ...\n",
    "]\n",
    "````\n",
    "\n",
    "As an example we will look for instances of *alambic* in the archive's analysed repositories:"
   ],
   "metadata": {
    "tags": [],
    "cell_id": "00005-332828ae-bce7-4468-82c7-7e60a0a70be8",
    "deepnote_cell_type": "markdown"
   }
  },
  {
   "cell_type": "code",
   "metadata": {
    "scrolled": true,
    "tags": [],
    "cell_id": "00006-86b868e7-7f67-4a11-a9f1-59047f04f2de",
    "deepnote_to_be_reexecuted": false,
    "source_hash": "c0a084b9",
    "execution_start": 1621768590006,
    "execution_millis": 1903,
    "deepnote_cell_type": "code"
   },
   "source": [
    "resp = requests.get(\"https://archive.softwareheritage.org/api/1/origin/search/alambic/\")\n",
    "origins = resp.json()\n",
    "print(\"We found\",len(origins),\"entries.\")\n",
    "for origin in origins[1:10]:\n",
    "    print('- ',origin['url'])"
   ],
   "outputs": [
    {
     "output_type": "stream",
     "name": "stdout",
     "text": [
      "We found 58 entries.\n-  https://github.com/royal-alambic-club/sauron\n-  https://github.com/scamberlin/alambic\n-  https://github.com/WebTales/alambic-connector-mongodb\n-  https://github.com/ampize/alambic-connector-firebase\n-  https://github.com/WebTales/alambic\n-  https://github.com/AssoAlambic/alambic-website\n-  https://bitbucket.org/nayoub/alambic.git\n-  https://github.com/Alexandru-Dobre/alambic-connector-rest\n-  https://github.com/WebTales/alambic-connector-diffbot\n"
     ]
    }
   ],
   "execution_count": 3
  },
  {
   "cell_type": "markdown",
   "source": [
    "There are obviously many projects and repositories that embed the word alambic, and we will need to be a bit more specific if we are to identify the origin actually related to the alambic project. \n",
    "\n",
    "If we want to know more about a specific origin, we can simply use the `url` attribute (or any known URL) as an entry for any of the `origin` endpoints. "
   ],
   "metadata": {
    "cell_id": "00007-195ba60e-e3cb-4d3c-8963-3d9498d5b871",
    "deepnote_cell_type": "markdown"
   }
  },
  {
   "cell_type": "markdown",
   "source": [
    "### Search for a specific origin\n",
    "\n",
    "Now say that we want to query the database for the specific repository of Alambic, to know what information has been registered by the archive. The API endpoint can be found [in the swh-web documentation](https://archive.softwareheritage.org/api/1/origin/doc/), and has the following syntax:\n",
    "\n",
    "`/api/1/origin/<origin_url>/get/`\n",
    "\n",
    "Which returns the same type of JSON object than the `search` command seen previously:\n",
    "\n",
    "* **origin_visits_url** attribute is an URL that points to the API page listing all visits (bot fetches) to this repository. \n",
    "* **url** is the url of the origin, or repository, itself.\n",
    "\n",
    "We know that Alambic is hosted at 'https://github.com/borisbaldassari/alambic/', so the API call will look like this: \n",
    "\n",
    "`/api/1/origin/https://github.com/borisbaldassari/alambic/get/`"
   ],
   "metadata": {
    "cell_id": "00008-35cda3b6-3297-47ce-8530-b7fd0b2188d7",
    "deepnote_cell_type": "markdown"
   }
  },
  {
   "cell_type": "code",
   "metadata": {
    "scrolled": true,
    "cell_id": "00009-479183a7-9d37-4aa7-8e25-97cb4294099f",
    "deepnote_to_be_reexecuted": false,
    "source_hash": "b19b9dbf",
    "execution_start": 1621768591906,
    "execution_millis": 438,
    "deepnote_cell_type": "code"
   },
   "source": [
    "resp = requests.get(\"https://archive.softwareheritage.org/api/1/origin/https://github.com/borisbaldassari/alambic/get/\")\n",
    "found = resp.json()\n",
    "jprint(found)"
   ],
   "outputs": [
    {
     "output_type": "stream",
     "name": "stdout",
     "text": [
      "{\n    \"origin_visits_url\": \"https://archive.softwareheritage.org/api/1/origin/https://github.com/borisbaldassari/alambic/visits/\",\n    \"url\": \"https://github.com/borisbaldassari/alambic\"\n}\n"
     ]
    }
   ],
   "execution_count": 4
  },
  {
   "cell_type": "markdown",
   "source": [
    "### Get visits information\n",
    "\n",
    "We can use the `origin_visits_url` attribute to know more about when the repository was analysed by the archive bots. The API endpoint is fully documented on the [Software Heritage doc site](https://archive.softwareheritage.org/api/1/origin/visits/doc/), and has the following syntax:\n",
    "\n",
    "`/api/1/origin/<origin_url>/visits/`\n",
    "\n",
    "We will use the same query as before about the main Alambic repository."
   ],
   "metadata": {
    "cell_id": "00010-d880626f-5bf7-43c3-85d2-a9becd9ecdd0",
    "deepnote_cell_type": "markdown"
   }
  },
  {
   "cell_type": "code",
   "metadata": {
    "scrolled": false,
    "tags": [],
    "cell_id": "00011-04bf8418-4020-465b-9b53-6efc677e63ea",
    "deepnote_to_be_reexecuted": false,
    "source_hash": "6f017c35",
    "execution_start": 1621768592340,
    "execution_millis": 493,
    "deepnote_cell_type": "code"
   },
   "source": [
    "resp = requests.get(\"https://archive.softwareheritage.org/api/1/origin/https://github.com/borisbaldassari/alambic/visits/\")\n",
    "found = resp.json()\n",
    "length = len(found)\n",
    "print(\"Number of visits found: {}.\".format(length))\n",
    "print(\"With dates:\")\n",
    "for visit in found:\n",
    "    print(\"-\",visit['visit'],visit['date'])\n",
    "print(\"\\nExample of a single visit entry:\")\n",
    "jprint(found[0])"
   ],
   "outputs": [
    {
     "output_type": "stream",
     "name": "stdout",
     "text": [
      "Number of visits found: 6.\nWith dates:\n- 6 2021-06-04T07:56:51.154216+00:00\n- 5 2021-01-01T19:35:41.308336+00:00\n- 4 2020-02-06T10:41:45.700641+00:00\n- 3 2019-09-01T22:38:12.056537+00:00\n- 2 2019-06-16T04:52:18.162914+00:00\n- 1 2019-01-30T07:19:20.799217+00:00\n\nExample of a single visit entry:\n{\n    \"date\": \"2021-06-04T07:56:51.154216+00:00\",\n    \"metadata\": {},\n    \"origin\": \"https://github.com/borisbaldassari/alambic\",\n    \"origin_visit_url\": \"https://archive.softwareheritage.org/api/1/origin/https://github.com/borisbaldassari/alambic/visit/6/\",\n    \"snapshot\": \"6436d2c9b06cf9bd9efb0b4e463c3fe6b868eadc\",\n    \"snapshot_url\": \"https://archive.softwareheritage.org/api/1/snapshot/6436d2c9b06cf9bd9efb0b4e463c3fe6b868eadc/\",\n    \"status\": \"full\",\n    \"type\": \"git\",\n    \"visit\": 6\n}\n"
     ]
    }
   ],
   "execution_count": 5
  },
  {
   "cell_type": "markdown",
   "source": [
    "## Get the content\n",
    "\n",
    "As defined in the beginning, a snapshot is a capture of the repository at a given time with links to all branches, commits and associated content. In this example we will work on the snapshot ID of the last visit to Alambic, as returned by the previous command we executed. \n"
   ],
   "metadata": {
    "cell_id": "00012-a1b82de9-44b6-48d5-bde9-feb50b0a6dec",
    "deepnote_cell_type": "markdown"
   }
  },
  {
   "cell_type": "code",
   "metadata": {
    "scrolled": true,
    "cell_id": "00013-8c8ed0d2-4af2-4736-b34c-d79faaa6236b",
    "deepnote_to_be_reexecuted": false,
    "source_hash": "ac9aa7a7",
    "execution_start": 1621768592830,
    "execution_millis": 9,
    "deepnote_cell_type": "code"
   },
   "source": [
    "# Store snapshot id \n",
    "snapshot = found[0]['snapshot']\n",
    "print(\"Snapshot is {}.\".format(snapshot))"
   ],
   "outputs": [
    {
     "output_type": "stream",
     "name": "stdout",
     "text": [
      "Snapshot is 6436d2c9b06cf9bd9efb0b4e463c3fe6b868eadc.\n"
     ]
    }
   ],
   "execution_count": 6
  },
  {
   "cell_type": "markdown",
   "source": [
    "Note that the latest visit to the repository can also be directly retrieved using the [dedicated endpoint](https://archive.softwareheritage.org/api/1/origin/visit/latest/doc/) `/api/1/origin/visit/latest/`.\n",
    "\n",
    "### Get the snapshot\n",
    "\n",
    "We want now to retrieve the content of the project at this snapshot. For that purpose there is the `snapshot` endpoint, and its documentation is [provided here](https://archive.softwareheritage.org/api/1/snapshot/doc/). The complete syntax is:\n",
    "\n",
    "`/api/1/snapshot/<snapshot_id>/`\n",
    "\n",
    "The snapshot endpoint returns in the `branches` attribute a list of **revisions** (aka commits or branch refs in a git context), which themselves point to the set of directories and files in the branch at the time of analysis. Let's follow this chain of links, starting with the snapshot's list of revisions (branches):"
   ],
   "metadata": {
    "tags": [],
    "cell_id": "00014-f5879442-a78a-40f2-ae9e-7d37a57b2162",
    "deepnote_cell_type": "markdown"
   }
  },
  {
   "cell_type": "code",
   "metadata": {
    "tags": [],
    "cell_id": "00015-78d891d8-692b-4cff-b10d-ca066256f016",
    "deepnote_to_be_reexecuted": false,
    "source_hash": "cadc03a2",
    "execution_start": 1621768592843,
    "execution_millis": 462,
    "deepnote_cell_type": "code"
   },
   "source": [
    "snapshotr = requests.get(\"https://archive.softwareheritage.org/api/1/snapshot/{}/\".format(snapshot))\n",
    "snapshotj = snapshotr.json()\n",
    "jprint(snapshotj)"
   ],
   "outputs": [
    {
     "output_type": "stream",
     "name": "stdout",
     "text": [
      "{\n    \"branches\": {\n        \"HEAD\": {\n            \"target\": \"refs/heads/master\",\n            \"target_type\": \"alias\",\n            \"target_url\": \"https://archive.softwareheritage.org/api/1/revision/6dd0504b43b4459d52e9f13f71a91cc0fc445a19/\"\n        },\n        \"refs/heads/devel\": {\n            \"target\": \"e298b8c5692b18928013a68e41fd185419515075\",\n            \"target_type\": \"revision\",\n            \"target_url\": \"https://archive.softwareheritage.org/api/1/revision/e298b8c5692b18928013a68e41fd185419515075/\"\n        },\n        \"refs/heads/features/cr152_anonymise_data\": {\n            \"target\": \"ba3e0dcbfa0cb212a7186e9e62efb6dafe7fe162\",\n            \"target_type\": \"revision\",\n            \"target_url\": \"https://archive.softwareheritage.org/api/1/revision/ba3e0dcbfa0cb212a7186e9e62efb6dafe7fe162/\"\n        },\n        \"refs/heads/features/cr164_github_project\": {\n            \"target\": \"0005abb080e4c67a97533ee923e9d28142877752\",\n            \"target_type\": \"revision\",\n            \"target_url\": \"https://archive.softwareheritage.org/api/1/revision/0005abb080e4c67a97533ee923e9d28142877752/\"\n        },\n        \"refs/heads/features/cr165_github_its\": {\n            \"target\": \"0005abb080e4c67a97533ee923e9d28142877752\",\n            \"target_type\": \"revision\",\n            \"target_url\": \"https://archive.softwareheritage.org/api/1/revision/0005abb080e4c67a97533ee923e9d28142877752/\"\n        },\n        \"refs/heads/features/cr89_gitlabwizard\": {\n            \"target\": \"b941fd5f93a6cfc2349358b891e47d0fffe0ed2d\",\n            \"target_type\": \"revision\",\n            \"target_url\": \"https://archive.softwareheritage.org/api/1/revision/b941fd5f93a6cfc2349358b891e47d0fffe0ed2d/\"\n        },\n        \"refs/heads/master\": {\n            \"target\": \"6dd0504b43b4459d52e9f13f71a91cc0fc445a19\",\n            \"target_type\": \"revision\",\n            \"target_url\": \"https://archive.softwareheritage.org/api/1/revision/6dd0504b43b4459d52e9f13f71a91cc0fc445a19/\"\n        }\n    },\n    \"id\": \"6436d2c9b06cf9bd9efb0b4e463c3fe6b868eadc\",\n    \"next_branch\": null\n}\n"
     ]
    }
   ],
   "execution_count": 7
  },
  {
   "cell_type": "markdown",
   "source": [
    "### Get the root directory\n",
    "\n",
    "The revision associated to the branch can be retrieved by following the corresponding link in the `target_url` attribute. We will follow the `refs/heads/master` branch and get the associated revision object. In this case (a git repository) the revision is equivalent to a branch ref or commit, with an ID and message."
   ],
   "metadata": {
    "tags": [],
    "cell_id": "00016-c216a828-5e03-435f-8f59-42b71f3a27be",
    "deepnote_cell_type": "markdown"
   }
  },
  {
   "cell_type": "code",
   "metadata": {
    "tags": [],
    "cell_id": "00017-1ba7d315-4c59-4a1e-82f9-1b15f881ef52",
    "deepnote_to_be_reexecuted": false,
    "source_hash": "95a9b1e6",
    "execution_start": 1621768593303,
    "execution_millis": 570,
    "deepnote_cell_type": "code"
   },
   "source": [
    "print('Revision ID is',snapshotj['id'])\n",
    "master_url = snapshotj['branches']['refs/heads/master']['target_url']\n",
    "masterr = requests.get(master_url)\n",
    "masterj = masterr.json()\n",
    "jprint(masterj)"
   ],
   "outputs": [
    {
     "output_type": "stream",
     "name": "stdout",
     "text": [
      "Revision ID is 6436d2c9b06cf9bd9efb0b4e463c3fe6b868eadc\n",
      "{\n",
      "    \"author\": {\n",
      "        \"email\": \"boris.baldassari@gmail.com\",\n",
      "        \"fullname\": \"Boris Baldassari <boris.baldassari@gmail.com>\",\n",
      "        \"name\": \"Boris Baldassari\"\n",
      "    },\n",
      "    \"committer\": {\n",
      "        \"email\": \"boris.baldassari@gmail.com\",\n",
      "        \"fullname\": \"Boris Baldassari <boris.baldassari@gmail.com>\",\n",
      "        \"name\": \"Boris Baldassari\"\n",
      "    },\n",
      "    \"committer_date\": \"2020-11-01T12:55:13+01:00\",\n",
      "    \"date\": \"2020-11-01T12:55:13+01:00\",\n",
      "    \"directory\": \"fd9fe3477db3b9b7dea63509832b3fa99bdd7eb8\",\n",
      "    \"directory_url\": \"https://archive.softwareheritage.org/api/1/directory/fd9fe3477db3b9b7dea63509832b3fa99bdd7eb8/\",\n",
      "    \"extra_headers\": [],\n",
      "    \"history_url\": \"https://archive.softwareheritage.org/api/1/revision/6dd0504b43b4459d52e9f13f71a91cc0fc445a19/log/\",\n",
      "    \"id\": \"6dd0504b43b4459d52e9f13f71a91cc0fc445a19\",\n",
      "    \"merge\": false,\n",
      "    \"message\": \"#163 Fix dygraphs zero padding in forums plugin.\\n\",\n",
      "    \"metadata\": {},\n",
      "    \"parents\": [\n",
      "        {\n",
      "            \"id\": \"a4a2d8925c1cc43612602ac28e4ca9a31728b151\",\n",
      "            \"url\": \"https://archive.softwareheritage.org/api/1/revision/a4a2d8925c1cc43612602ac28e4ca9a31728b151/\"\n",
      "        }\n",
      "    ],\n",
      "    \"synthetic\": false,\n",
      "    \"type\": \"git\",\n",
      "    \"url\": \"https://archive.softwareheritage.org/api/1/revision/6dd0504b43b4459d52e9f13f71a91cc0fc445a19/\"\n",
      "}\n"
     ]
    }
   ],
   "execution_count": 8
  },
  {
   "cell_type": "markdown",
   "source": [
    "The revision is associated to the root directory of the project. We can list all files and directories at the root by requesting more information from the `directory_url` attribute. The endpoint is documented [here](https://archive.softwareheritage.org/api/1/directory/doc/) and has the following syntax:\n",
    "\n",
    "`/api/1/directory/<directory_id>/`\n",
    "\n",
    "The structure of the response is an **array of files and directories**. **Files** are represented like this:\n",
    "````\n",
    "{\n",
    "    \"checksums\": {\n",
    "        \"sha1\": \"5973b582bfaeffa71c924e3fe7150620230391d8\",\n",
    "        \"sha1_git\": \"a6c4d5ebfdf88b3b1a65996f6c438c01bf60740b\",\n",
    "        \"sha256\": \"8761f1e1fd96fc4c86ad343a7c19ecd51c0bde4d7055b3315c3975b31ec61bbc\"\n",
    "    },\n",
    "    \"dir_id\": \"3ee1366c6dd0b7f4ba9536e9bcc300236ac8f200\",\n",
    "    \"length\": 101,\n",
    "    \"name\": \".dockerignore\",\n",
    "    \"perms\": 33188,\n",
    "    \"status\": \"visible\",\n",
    "    \"target\": \"a6c4d5ebfdf88b3b1a65996f6c438c01bf60740b\",\n",
    "    \"target_url\": \"https://archive.softwareheritage.org/api/1/content/sha1_git:a6c4d5ebfdf88b3b1a65996f6c438c01bf60740b/\",\n",
    "    \"type\": \"file\"\n",
    "}\n",
    "````\n",
    "And **directories** are represented with:\n",
    "````\n",
    "{\n",
    "    \"dir_id\": \"3ee1366c6dd0b7f4ba9536e9bcc300236ac8f200\",\n",
    "    \"length\": null,\n",
    "    \"name\": \"doc\",\n",
    "    \"perms\": 16384,\n",
    "    \"target\": \"316468df4988351911992ecbf1866f1c1f575c23\",\n",
    "    \"target_url\": \"https://archive.softwareheritage.org/api/1/directory/316468df4988351911992ecbf1866f1c1f575c23/\",\n",
    "    \"type\": \"dir\"\n",
    "}\n",
    "````\n",
    "\n",
    "We will print the list of files and directories located at the root of the repository at the time of analysis:"
   ],
   "metadata": {
    "cell_id": "00018-b0a47daf-0df3-4e13-aae3-375971029eee",
    "deepnote_cell_type": "markdown"
   }
  },
  {
   "cell_type": "code",
   "metadata": {
    "cell_id": "00019-a8a63202-cc41-4c2c-b4ae-08d97e92811d",
    "deepnote_to_be_reexecuted": false,
    "source_hash": "8e56526b",
    "execution_start": 1621768593874,
    "execution_millis": 470,
    "deepnote_cell_type": "code"
   },
   "source": [
    "root_url = masterj['directory_url']\n",
    "rootr = requests.get(root_url)\n",
    "rootj = rootr.json()\n",
    "for f in rootj:\n",
    "    print('-',f['name'])\n",
    "#jprint(rootj)"
   ],
   "outputs": [
    {
     "output_type": "stream",
     "name": "stdout",
     "text": [
      "- .dockerignore\n- .env\n- .gitignore\n- CODE_OF_CONDUCT.html\n- CODE_OF_CONDUCT.md\n- LICENCE.html\n- LICENCE.md\n- Readme.md\n- doc\n- docker\n- docker-compose.run.yml\n- docker-compose.test.yml\n- dockercfg.encrypted\n- mojo\n- resources\n"
     ]
    }
   ],
   "execution_count": 9
  },
  {
   "cell_type": "markdown",
   "source": [
    "We could follow the links up (or down) to the leaves in order to rebuild the project structure and download all files individually to rebuild the project locally. However the archive can do it for us, and provides a feature to download the content of a whole project in one step: **cooking**. The feature is described in the [swh-vault documentation](https://docs.softwareheritage.org/devel/swh-vault/api.html#cooking-and-status-checking)."
   ],
   "metadata": {
    "cell_id": "00020-48566697-e53b-4e55-bc8c-aa70c56eec0b",
    "deepnote_cell_type": "markdown"
   }
  },
  {
   "cell_type": "markdown",
   "source": [
    "## Download content of a project\n",
    "\n",
    "When we ask the Archive to cook a directory for us, it invokes an asynchronous job to recuversively fetch the directories and files of the project, following the graph up to the leaves (files) and exporting the result as a tar.gz file. This procedure is handled by the [swh-vault component](https://docs.softwareheritage.org/devel/swh-vault/getting-started.html), and it's all automatic. \n",
    "\n",
    "### Order the meal\n",
    "\n",
    "A cooking job can be invoked for revisions, directories or snapshots (soon). It is initiated with a POST request on the `vault/<type>/` endpoint, and its complete syntax is:\n",
    "\n",
    "`/api/1/vault/directory/<directory_id>/`\n",
    "\n",
    "The first POST request initiates the cooking, and subsequent GET requests can fetch the job result and download the archive. See the [Software Heritage documentation](https://docs.softwareheritage.org/devel/swh-vault/getting-started.html#example-retrieving-a-directory) on this, with useful examples. The API endpoint is documented [here](https://archive.softwareheritage.org/api/1/vault/directory/doc/).\n",
    "\n",
    "In this example we will fetch the content of the root directory that we previously identified. "
   ],
   "metadata": {
    "cell_id": "00021-1d779d28-8faf-4e64-8fd3-d3205a656c2b",
    "deepnote_cell_type": "markdown"
   }
  },
  {
   "cell_type": "code",
   "metadata": {
    "tags": [],
    "cell_id": "00022-aa252ef6-0c6b-45b8-ac2f-da08bff93299",
    "deepnote_to_be_reexecuted": false,
    "source_hash": "ef1e6e68",
    "execution_start": 1621768594340,
    "execution_millis": 721,
    "deepnote_cell_type": "code"
   },
   "source": [
    "mealr = requests.post(\"https://archive.softwareheritage.org/api/1/vault/directory/3ee1366c6dd0b7f4ba9536e9bcc300236ac8f200/\")\n",
    "mealj = mealr.json()\n",
    "jprint(mealj)"
   ],
   "outputs": [
    {
     "output_type": "stream",
     "name": "stdout",
     "text": [
      "{\n    \"fetch_url\": \"https://archive.softwareheritage.org/api/1/vault/flat/swh:1:dir:3ee1366c6dd0b7f4ba9536e9bcc300236ac8f200/raw/\",\n    \"id\": 401069989,\n    \"obj_id\": \"3ee1366c6dd0b7f4ba9536e9bcc300236ac8f200\",\n    \"obj_type\": \"directory\",\n    \"progress_message\": null,\n    \"status\": \"new\",\n    \"swhid\": \"swh:1:dir:3ee1366c6dd0b7f4ba9536e9bcc300236ac8f200\"\n}\n"
     ]
    }
   ],
   "execution_count": 10
  },
  {
   "cell_type": "markdown",
   "source": [
    "### Ask if it's ready\n",
    "\n",
    "We can use a GET request on the same URL to get information about the process status:"
   ],
   "metadata": {
    "cell_id": "00023-8a7e908f-5463-4e44-b733-74a86611f6cb",
    "deepnote_cell_type": "markdown"
   }
  },
  {
   "cell_type": "code",
   "metadata": {
    "cell_id": "00024-8c40cc80-96f0-4a59-880d-8c9e3f46c3a8",
    "deepnote_to_be_reexecuted": false,
    "source_hash": "6c13bbd7",
    "execution_start": 1621768595058,
    "execution_millis": 474,
    "deepnote_cell_type": "code"
   },
   "source": [
    "statusr = requests.get(\"https://archive.softwareheritage.org/api/1/vault/directory/3ee1366c6dd0b7f4ba9536e9bcc300236ac8f200/\")\n",
    "statusj = statusr.json()\n",
    "jprint(statusj)"
   ],
   "outputs": [
    {
     "output_type": "stream",
     "name": "stdout",
     "text": [
      "{\n    \"fetch_url\": \"https://archive.softwareheritage.org/api/1/vault/flat/swh:1:dir:3ee1366c6dd0b7f4ba9536e9bcc300236ac8f200/raw/\",\n    \"id\": 401069989,\n    \"obj_id\": \"3ee1366c6dd0b7f4ba9536e9bcc300236ac8f200\",\n    \"obj_type\": \"directory\",\n    \"progress_message\": null,\n    \"status\": \"new\",\n    \"swhid\": \"swh:1:dir:3ee1366c6dd0b7f4ba9536e9bcc300236ac8f200\"\n}\n"
     ]
    }
   ],
   "execution_count": 11
  },
  {
   "cell_type": "markdown",
   "source": [
    "### Get the plate\n",
    "\n",
    "Once the processing is finished (it can take up to a few minutes) the tar.gz archive can be downloaded through the `fetch_url` link, and extracted as a tar.gz archive:\n",
    "\n",
    "````\n",
    "boris@castalia:downloads$ curl https://archive.softwareheritage.org/api/1/vault/directory/3ee1366c6dd0b7f4ba9536e9bcc300236ac8f200/raw/ -o myarchive.tar.gz\n",
    "  % Total    % Received % Xferd  Average Speed   Time    Time     Time  Current\n",
    "                                 Dload  Upload   Total   Spent    Left  Speed\n",
    "100 9555k  100 9555k    0     0  1459k      0  0:00:06  0:00:06 --:--:-- 1717k\n",
    "boris@castalia:downloads$ ls\n",
    "myarchive.tar.gz\n",
    "boris@castalia:downloads$ tar xzf myarchive.tar.gz \n",
    "3ee1366c6dd0b7f4ba9536e9bcc300236ac8f200/\n",
    "3ee1366c6dd0b7f4ba9536e9bcc300236ac8f200/.dockerignore\n",
    "3ee1366c6dd0b7f4ba9536e9bcc300236ac8f200/.env\n",
    "3ee1366c6dd0b7f4ba9536e9bcc300236ac8f200/.gitignore\n",
    "3ee1366c6dd0b7f4ba9536e9bcc300236ac8f200/CODE_OF_CONDUCT.html\n",
    "3ee1366c6dd0b7f4ba9536e9bcc300236ac8f200/CODE_OF_CONDUCT.md\n",
    "3ee1366c6dd0b7f4ba9536e9bcc300236ac8f200/LICENCE.html\n",
    "3ee1366c6dd0b7f4ba9536e9bcc300236ac8f200/LICENCE.md\n",
    "3ee1366c6dd0b7f4ba9536e9bcc300236ac8f200/Readme.md\n",
    "3ee1366c6dd0b7f4ba9536e9bcc300236ac8f200/doc/\n",
    "3ee1366c6dd0b7f4ba9536e9bcc300236ac8f200/doc/Readme.md\n",
    "3ee1366c6dd0b7f4ba9536e9bcc300236ac8f200/doc/config\n",
    "[SNIP]\n",
    "````\n"
   ],
   "metadata": {
    "cell_id": "00025-db02a534-f4b7-43b3-aa74-d6eb34338744",
    "deepnote_cell_type": "markdown"
   }
  },
  {
   "cell_type": "markdown",
   "source": [
    "## Conclusion\n",
    "\n",
    "In this article, we learned **how to explore and use the Software Heritage archive using its API**: searching for a repository, identifying projects and downloading specific snapshots of a repository. There is a lot more to the Archive and its API than what we have seen, and all features are generously documented on the [Software Heritage web site](https://archive.softwareheritage.org/api/). "
   ],
   "metadata": {
    "cell_id": "00026-559990b3-494f-4c9c-a9cc-2bf0a42acd6e",
    "deepnote_cell_type": "markdown"
   }
  }
 ],
 "nbformat": 4,
 "nbformat_minor": 5,
 "metadata": {
  "kernelspec": {
   "display_name": "Python 3.8.10 64-bit",
   "language": "python",
   "name": "python381064bit19478451bdfd455c8759963748a63553"
  },
  "language_info": {
   "codemirror_mode": {
    "name": "ipython",
    "version": 3
   },
   "file_extension": ".py",
   "mimetype": "text/x-python",
   "name": "python",
   "nbconvert_exporter": "python",
   "pygments_lexer": "ipython3",
   "version": "3.8.10-final"
  },
  "toc-autonumbering": true,
  "toc-showcode": true,
  "toc-showmarkdowntxt": true,
  "deepnote_notebook_id": "6e206cf6-2271-433b-9ba0-c8b021fded65",
  "deepnote": {},
  "deepnote_execution_queue": []
 }
}